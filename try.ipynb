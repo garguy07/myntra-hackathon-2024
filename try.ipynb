{
 "cells": [
  {
   "cell_type": "code",
   "execution_count": null,
   "metadata": {},
   "outputs": [],
   "source": [
    "import cv2\n",
    "import numpy as np\n",
    "\n",
    "# Load OpenPose model\n",
    "net = cv2.dnn.readNetFromCaffe('pose_deploy_linevec.prototxt', 'pose_iter_440000.caffemodel')\n",
    "\n",
    "def detect_keypoints(image_path):\n",
    "    image = cv2.imread(image_path)\n",
    "    inWidth = 368\n",
    "    inHeight = 368\n",
    "    inpBlob = cv2.dnn.blobFromImage(image, 1.0 / 255, (inWidth, inHeight), (0, 0, 0), swapRB=False, crop=False)\n",
    "    net.setInput(inpBlob)\n",
    "    output = net.forward()\n",
    "    \n",
    "    H, W = output.shape[2], output.shape[3]\n",
    "    points = []\n",
    "    for i in range(15):  # 15 key points for COCO model\n",
    "        probMap = output[0, i, :, :]\n",
    "        minVal, prob, minLoc, point = cv2.minMaxLoc(probMap)\n",
    "        x = (image.shape[1] * point[0]) / W\n",
    "        y = (image.shape[0] * point[1]) / H\n",
    "        if prob > 0.1:\n",
    "            points.append((int(x), int(y)))\n",
    "        else:\n",
    "            points.append(None)\n",
    "    return points\n",
    "\n",
    "# Example usage\n",
    "keypoints = detect_keypoints('user_photo.jpg')\n",
    "print(keypoints)\n"
   ]
  },
  {
   "cell_type": "code",
   "execution_count": null,
   "metadata": {},
   "outputs": [],
   "source": [
    "from PIL import Image\n",
    "\n",
    "def prepare_garment_image(image_path):\n",
    "    garment_image = Image.open(image_path).convert('RGBA')\n",
    "    # Additional processing if needed\n",
    "    return garment_image\n",
    "\n",
    "# Example usage\n",
    "garment = prepare_garment_image('garment_image.png')\n",
    "garment.show()\n"
   ]
  },
  {
   "cell_type": "code",
   "execution_count": null,
   "metadata": {},
   "outputs": [],
   "source": [
    "def align_and_scale_garment(user_image_path, garment_image_path, keypoints):\n",
    "    user_image = Image.open(user_image_path).convert('RGBA')\n",
    "    garment_image = Image.open(garment_image_path).convert('RGBA')\n",
    "\n",
    "    # Example: Align shoulders (keypoints[2] and keypoints[5])\n",
    "    if keypoints[2] and keypoints[5]:\n",
    "        shoulder_width = abs(keypoints[2][0] - keypoints[5][0])\n",
    "        scale_factor = shoulder_width / garment_image.width\n",
    "        new_size = (int(garment_image.width * scale_factor), int(garment_image.height * scale_factor))\n",
    "        garment_image = garment_image.resize(new_size, Image.ANTIALIAS)\n",
    "\n",
    "        # Position garment\n",
    "        garment_x = keypoints[2][0] - garment_image.width // 2\n",
    "        garment_y = keypoints[2][1] - garment_image.height // 2\n",
    "        user_image.paste(garment_image, (garment_x, garment_y), garment_image)\n",
    "\n",
    "    return user_image\n",
    "\n",
    "# Example usage\n",
    "aligned_image = align_and_scale_garment('user_photo.jpg', 'garment_image.png', keypoints)\n",
    "aligned_image.show()\n"
   ]
  },
  {
   "cell_type": "code",
   "execution_count": null,
   "metadata": {},
   "outputs": [],
   "source": [
    "def overlay_garment(user_image_path, garment_image_path, keypoints):\n",
    "    user_image = Image.open(user_image_path).convert('RGBA')\n",
    "    garment_image = prepare_garment_image(garment_image_path)\n",
    "    result_image = align_and_scale_garment(user_image_path, garment_image_path, keypoints)\n",
    "    return result_image\n",
    "\n",
    "# Example usage\n",
    "result = overlay_garment('user_photo.jpg', 'garment_image.png', keypoints)\n",
    "result.show()\n"
   ]
  },
  {
   "cell_type": "code",
   "execution_count": null,
   "metadata": {},
   "outputs": [],
   "source": [
    "from PIL import Image\n",
    "\n",
    "def align_and_scale_garment(user_image_path, garment_image_path, keypoints):\n",
    "    user_image = Image.open(user_image_path).convert('RGBA')\n",
    "    garment_image = Image.open(garment_image_path).convert('RGBA')\n",
    "\n",
    "    if keypoints[2] and keypoints[5]:\n",
    "        shoulder_width = abs(keypoints[2][0] - keypoints[5][0])\n",
    "        scale_factor = shoulder_width / garment_image.width\n",
    "        new_size = (int(garment_image.width * scale_factor), int(garment_image.height * scale_factor))\n",
    "        garment_image = garment_image.resize(new_size, resample=Image.ANTIALIAS)\n",
    "\n",
    "        garment_x = keypoints[2][0] - garment_image.width // 2\n",
    "        garment_y = keypoints[2][1] - garment_image.height // 2\n",
    "        user_image.paste(garment_image, (garment_x, garment_y), garment_image)\n",
    "\n",
    "    return user_image\n",
    "\n",
    "# Example usage\n",
    "# Ensure 'user_photo.jpg' and 'garment_image.png' are valid paths to your images\n",
    "keypoints = [(100, 200), (150, 250)]  # Replace with actual keypoints\n",
    "result = align_and_scale_garment('user.png', 'garment.png', keypoints)\n",
    "result.show()\n"
   ]
  }
 ],
 "metadata": {
  "language_info": {
   "name": "python"
  }
 },
 "nbformat": 4,
 "nbformat_minor": 2
}
